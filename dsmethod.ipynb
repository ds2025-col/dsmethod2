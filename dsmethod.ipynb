{
  "cells": [
    {
      "cell_type": "markdown",
      "metadata": {
        "id": "view-in-github",
        "colab_type": "text"
      },
      "source": [
        "<a href=\"https://colab.research.google.com/github/ds2025-col/dsmethod2/blob/main/dsmethod.ipynb\" target=\"_parent\"><img src=\"https://colab.research.google.com/assets/colab-badge.svg\" alt=\"Open In Colab\"/></a>"
      ]
    },
    {
      "cell_type": "code",
      "execution_count": null,
      "metadata": {
        "colab": {
          "base_uri": "https://localhost:8080/"
        },
        "id": "MroFcyyGlxS9",
        "outputId": "0d23f420-6cfe-42d2-f774-4d8458531f60"
      },
      "outputs": [
        {
          "name": "stdout",
          "output_type": "stream",
          "text": [
            "(1, 2, 'ann')\n",
            "(1, 2)\n"
          ]
        }
      ],
      "source": [
        "a=(1,2,'ann')\n",
        "print(a)\n",
        "print(a[-3:-1])"
      ]
    },
    {
      "cell_type": "code",
      "execution_count": null,
      "metadata": {
        "id": "d5tiGWPym11r"
      },
      "outputs": [],
      "source": [
        "a=(1,2,4)\n",
        "del a  #delete\n"
      ]
    },
    {
      "cell_type": "code",
      "execution_count": null,
      "metadata": {
        "id": "HpncTEn7om7D"
      },
      "outputs": [],
      "source": []
    },
    {
      "cell_type": "markdown",
      "metadata": {
        "id": "BQp2sJjeo7FM"
      },
      "source": [
        "**SET**\n"
      ]
    },
    {
      "cell_type": "code",
      "execution_count": null,
      "metadata": {
        "colab": {
          "base_uri": "https://localhost:8080/"
        },
        "id": "z009eQQSpLQd",
        "outputId": "e696abc8-c8ed-45d5-a0d8-4123a3e0b5c3"
      },
      "outputs": [
        {
          "name": "stdout",
          "output_type": "stream",
          "text": [
            "{1, 2, 3, 4, 5, 8, 9}\n",
            "{1}\n"
          ]
        }
      ],
      "source": [
        "a={1,2,3,4}\n",
        "b={1,5,9,8}\n",
        "print(a.union(b))\n",
        "print(a.intersection(b))"
      ]
    },
    {
      "cell_type": "code",
      "execution_count": null,
      "metadata": {
        "colab": {
          "base_uri": "https://localhost:8080/"
        },
        "id": "vsWjDvdprukF",
        "outputId": "09f64acb-1f5d-41a3-a09c-010bfb4a2c09"
      },
      "outputs": [
        {
          "data": {
            "text/plain": [
              "{2, 3, 4}"
            ]
          },
          "execution_count": 13,
          "metadata": {},
          "output_type": "execute_result"
        }
      ],
      "source": [
        "a.difference(b)\n"
      ]
    },
    {
      "cell_type": "code",
      "execution_count": null,
      "metadata": {
        "colab": {
          "base_uri": "https://localhost:8080/"
        },
        "id": "5XeJM0rZrNch",
        "outputId": "30e34d94-e522-4670-be9b-88fcf95b6326"
      },
      "outputs": [
        {
          "name": "stdout",
          "output_type": "stream",
          "text": [
            "{1, 2, 3, 4, 5, 8, 9}\n"
          ]
        }
      ],
      "source": [
        "a.update(b)\n",
        "print(a)"
      ]
    },
    {
      "cell_type": "code",
      "execution_count": null,
      "metadata": {
        "colab": {
          "base_uri": "https://localhost:8080/"
        },
        "id": "5elcK51JsL3w",
        "outputId": "318f2f6c-1bbc-4cfa-f434-403d5b7eac2b"
      },
      "outputs": [
        {
          "name": "stdout",
          "output_type": "stream",
          "text": [
            "{1, 2, 3, 4, 5, 7, 8, 9}\n"
          ]
        }
      ],
      "source": [
        "a.add(7)\n",
        "print(a)"
      ]
    },
    {
      "cell_type": "code",
      "execution_count": null,
      "metadata": {
        "colab": {
          "base_uri": "https://localhost:8080/"
        },
        "id": "8onA_zarsyZQ",
        "outputId": "de7a501c-5058-4336-b4c6-c45b006ad11b"
      },
      "outputs": [
        {
          "name": "stdout",
          "output_type": "stream",
          "text": [
            "False\n"
          ]
        }
      ],
      "source": [
        "a.issubset(b)\n",
        "print(a.issubset(b))"
      ]
    },
    {
      "cell_type": "code",
      "execution_count": null,
      "metadata": {
        "colab": {
          "base_uri": "https://localhost:8080/"
        },
        "id": "P-hCrCRxtbJ-",
        "outputId": "2c4ca811-46ef-400b-a944-55bf44ebe958"
      },
      "outputs": [
        {
          "name": "stdout",
          "output_type": "stream",
          "text": [
            "True\n"
          ]
        }
      ],
      "source": [
        "a.issuperset(b)\n",
        "print(a.issuperset(b))"
      ]
    },
    {
      "cell_type": "code",
      "execution_count": null,
      "metadata": {
        "colab": {
          "base_uri": "https://localhost:8080/"
        },
        "id": "CB5qQk3auhPi",
        "outputId": "a698596e-cd1c-4531-d511-ed59e4090ee5"
      },
      "outputs": [
        {
          "name": "stdout",
          "output_type": "stream",
          "text": [
            "{1, 2, 3}\n",
            "1\n",
            "{2, 3}\n"
          ]
        }
      ],
      "source": [
        "a={1,2,3,4}\n",
        "a.remove(4)\n",
        "print(a)\n",
        "print(a.pop())\n",
        "print(a)"
      ]
    },
    {
      "cell_type": "markdown",
      "metadata": {
        "id": "OWaZBxF-yt_a"
      },
      "source": [
        "**DICTIONARY**"
      ]
    },
    {
      "cell_type": "code",
      "execution_count": null,
      "metadata": {
        "colab": {
          "base_uri": "https://localhost:8080/"
        },
        "id": "PRUnKOTdy4ym",
        "outputId": "a0910c11-9fca-4f1a-ad84-5590218f0907"
      },
      "outputs": [
        {
          "name": "stdout",
          "output_type": "stream",
          "text": [
            "ANN\n"
          ]
        }
      ],
      "source": [
        "X={'NAME':'ANN','AGE':12,'PLACE':'PMMNA'}\n",
        "print(X['NAME'])"
      ]
    },
    {
      "cell_type": "code",
      "execution_count": null,
      "metadata": {
        "colab": {
          "base_uri": "https://localhost:8080/"
        },
        "id": "WxNVYYJm3UCY",
        "outputId": "9445bcd7-ae92-4119-91f9-44512fc0f875"
      },
      "outputs": [
        {
          "name": "stdout",
          "output_type": "stream",
          "text": [
            "{'NAME': 'ANU', 'AGE': 12, 'PLACE': 'PMMNA'}\n"
          ]
        }
      ],
      "source": [
        "X['NAME']='ANU' #REPLACE\n",
        "print(X)"
      ]
    },
    {
      "cell_type": "code",
      "execution_count": null,
      "metadata": {
        "colab": {
          "base_uri": "https://localhost:8080/"
        },
        "id": "7jsl4K8R3E6W",
        "outputId": "30832168-4794-4161-e9e6-e9513a4c59ad"
      },
      "outputs": [
        {
          "name": "stdout",
          "output_type": "stream",
          "text": [
            "PMMNA\n"
          ]
        }
      ],
      "source": [
        "print(X.get('PLACE'))"
      ]
    },
    {
      "cell_type": "code",
      "execution_count": null,
      "metadata": {
        "colab": {
          "base_uri": "https://localhost:8080/"
        },
        "id": "O_En-xk15Z8K",
        "outputId": "766972e2-8f0c-4ef6-f509-4cf49efa0966"
      },
      "outputs": [
        {
          "name": "stdout",
          "output_type": "stream",
          "text": [
            "None\n",
            "{'NAME': 'ANU', 'AGE': 12, 'PLACE': 'PMMNA', 'ANNA': 20, 'KKV': 15, 'rollno': 20}\n"
          ]
        }
      ],
      "source": [
        "Y={'rollno' :20}\n",
        "print(X.update(Y))\n",
        "print(X)"
      ]
    },
    {
      "cell_type": "code",
      "execution_count": null,
      "metadata": {
        "colab": {
          "base_uri": "https://localhost:8080/"
        },
        "id": "E0hNrf2r6mMQ",
        "outputId": "74ae7644-e4bc-430e-bb25-b048cfb1edda"
      },
      "outputs": [
        {
          "name": "stdout",
          "output_type": "stream",
          "text": [
            "dict_keys(['NAME', 'AGE', 'PLACE', 'ANNA', 'KKV'])\n"
          ]
        }
      ],
      "source": [
        "print(X.keys())"
      ]
    },
    {
      "cell_type": "code",
      "execution_count": null,
      "metadata": {
        "colab": {
          "base_uri": "https://localhost:8080/"
        },
        "id": "eeCClUkC64hU",
        "outputId": "4378c676-5701-49c3-fc60-ddfc74405975"
      },
      "outputs": [
        {
          "data": {
            "text/plain": [
              "dict_values(['ANU', 12, 'PMMNA', 20, 15])"
            ]
          },
          "execution_count": 41,
          "metadata": {},
          "output_type": "execute_result"
        }
      ],
      "source": [
        "X.values()"
      ]
    },
    {
      "cell_type": "code",
      "execution_count": null,
      "metadata": {
        "colab": {
          "base_uri": "https://localhost:8080/"
        },
        "id": "sjGZDzjO9vhS",
        "outputId": "970de283-6edc-4358-f4e6-121d5932eff1"
      },
      "outputs": [
        {
          "name": "stdout",
          "output_type": "stream",
          "text": [
            "20\n",
            "{'NAME': 'ANU', 'AGE': 12, 'PLACE': 'PMMNA', 'rollno': 20}\n"
          ]
        }
      ],
      "source": [
        "print(X.pop('ANNA'))\n",
        "print(X)\n"
      ]
    },
    {
      "cell_type": "code",
      "execution_count": null,
      "metadata": {
        "colab": {
          "base_uri": "https://localhost:8080/"
        },
        "id": "UY3IU9pOPcQt",
        "outputId": "c6555c24-ee55-45bd-eb90-d2159f4364f8"
      },
      "outputs": [
        {
          "name": "stdout",
          "output_type": "stream",
          "text": [
            "None\n",
            "{}\n"
          ]
        }
      ],
      "source": [
        "print(X.clear())\n",
        "print(X)"
      ]
    },
    {
      "cell_type": "code",
      "execution_count": null,
      "metadata": {
        "colab": {
          "base_uri": "https://localhost:8080/"
        },
        "id": "wwOgBkNxRLjU",
        "outputId": "33ad0527-e617-48cf-b3ae-9d43638ddc3b"
      },
      "outputs": [
        {
          "name": "stdout",
          "output_type": "stream",
          "text": [
            "ANN\n",
            "{'AGE': 12, 'PLACE': 'PMMNA'}\n"
          ]
        }
      ],
      "source": [
        "X={'NAME':'ANN','AGE':12,'PLACE':'PMMNA'}\n",
        "print(X.pop('NAME'))\n",
        "print(X)"
      ]
    },
    {
      "cell_type": "code",
      "execution_count": null,
      "metadata": {
        "colab": {
          "base_uri": "https://localhost:8080/"
        },
        "id": "tobQTYO9TOF4",
        "outputId": "5de66ea0-d7d8-48f9-84be-879ab5aef692"
      },
      "outputs": [
        {
          "name": "stdout",
          "output_type": "stream",
          "text": [
            "OrderedDict([('name', 'ra'), ('AGE', 12), ('PLACE', 'PMMNA')])\n"
          ]
        }
      ],
      "source": [
        "from collections import OrderedDict\n",
        "\n",
        "X = OrderedDict([('AGE', 12), ('PLACE', 'PMMNA')])             # Convert to OrderedDict\n",
        "X.update({'name':'ra'})\n",
        "X.move_to_end('name', last=False)                               # Now move_to_end works\n",
        "print(X)\n"
      ]
    },
    {
      "cell_type": "code",
      "execution_count": null,
      "metadata": {
        "id": "qqvotpCfTNus"
      },
      "outputs": [],
      "source": []
    },
    {
      "cell_type": "markdown",
      "metadata": {
        "id": "WlG-jOPHXDa-"
      },
      "source": [
        "**string**"
      ]
    },
    {
      "cell_type": "code",
      "execution_count": null,
      "metadata": {
        "colab": {
          "base_uri": "https://localhost:8080/"
        },
        "id": "qppqMGHNWXAy",
        "outputId": "df327f20-b99c-4ac6-f24d-099a9cdb1e63"
      },
      "outputs": [
        {
          "name": "stdout",
          "output_type": "stream",
          "text": [
            "hallo world\n",
            "llo wo\n"
          ]
        }
      ],
      "source": [
        "a='hallo world'  #string\n",
        "print(a)\n",
        "print(a[2:8])"
      ]
    },
    {
      "cell_type": "code",
      "execution_count": null,
      "metadata": {
        "colab": {
          "base_uri": "https://localhost:8080/"
        },
        "id": "-fjFp9MZ_BPu",
        "outputId": "c841ccf0-231d-4f19-a10c-74ab2f3ef73c"
      },
      "outputs": [
        {
          "name": "stdout",
          "output_type": "stream",
          "text": [
            "['name', 'age']\n"
          ]
        }
      ],
      "source": [
        "x={'name':'raju','age': 10}\n",
        "y=[]\n",
        "for i in x:\n",
        "  y.append(i)\n",
        "print(y)"
      ]
    },
    {
      "cell_type": "code",
      "execution_count": null,
      "metadata": {
        "colab": {
          "base_uri": "https://localhost:8080/"
        },
        "id": "kmcXkmk8LzQ_",
        "outputId": "11bedfcd-1f59-4f51-b0f5-57f243b39f02"
      },
      "outputs": [
        {
          "name": "stdout",
          "output_type": "stream",
          "text": [
            "raju\n",
            "sam\n",
            "ann\n"
          ]
        }
      ],
      "source": [
        "x=[{'name':'raju','salary':10000,'job':'manager'},{'name':'sam','salary':12000,'job':'devloper'},{'name':'ann','salary':15000,'job':'tester'}]\n",
        "for i in x:\n",
        "  if i['salary']>10000:\n",
        "    print(i['name'])\n",
        "  elif  i['job']=='manager':\n",
        "      print(i['name'])"
      ]
    },
    {
      "cell_type": "code",
      "execution_count": null,
      "metadata": {
        "id": "L-mk_4KpPijA"
      },
      "outputs": [],
      "source": [
        "n=[]\n",
        "prime=[]\n",
        "composite=[]\n",
        "x=int(input('enter the number'))\n",
        "n.append(x)\n",
        "if x%2==0:\n",
        "  composite.append(x)\n",
        "else:\n",
        "    prime.append(x)\n",
        "print(prime)\n",
        "print(composite)\n",
        "\n"
      ]
    },
    {
      "cell_type": "markdown",
      "metadata": {
        "id": "ksEK68RPRZyq"
      },
      "source": [
        "while loop we can exicute a set of statement as long as the condition is true\n",
        "\n",
        "jumbing statements:-pass,continue,break"
      ]
    },
    {
      "cell_type": "code",
      "execution_count": null,
      "metadata": {
        "colab": {
          "base_uri": "https://localhost:8080/"
        },
        "id": "C4eKqBPMSuwm",
        "outputId": "06c7350b-2220-40b3-b2f1-16f995f92863"
      },
      "outputs": [
        {
          "name": "stdout",
          "output_type": "stream",
          "text": [
            "0\n",
            "1\n",
            "2\n",
            "3\n",
            "4\n"
          ]
        }
      ],
      "source": [
        "for i in range(10):\n",
        "  if i==5:\n",
        "    break\n",
        "  print(i)"
      ]
    },
    {
      "cell_type": "code",
      "execution_count": null,
      "metadata": {
        "colab": {
          "base_uri": "https://localhost:8080/"
        },
        "id": "OMxWfa4lT5cT",
        "outputId": "1e1fe94d-813c-4452-b92e-0b7dbf4ef7d5"
      },
      "outputs": [
        {
          "name": "stdout",
          "output_type": "stream",
          "text": [
            "0\n",
            "1\n",
            "2\n",
            "3\n",
            "4\n",
            "5\n",
            "6\n",
            "8\n",
            "9\n"
          ]
        }
      ],
      "source": [
        "for i in range(10):\n",
        "  if i==7:\n",
        "    continue\n",
        "  print(i)"
      ]
    },
    {
      "cell_type": "code",
      "execution_count": null,
      "metadata": {
        "colab": {
          "base_uri": "https://localhost:8080/"
        },
        "id": "4GkBJmudUcyD",
        "outputId": "6a9a579e-0e0e-4fce-ddc9-b4b39440d40b"
      },
      "outputs": [
        {
          "name": "stdout",
          "output_type": "stream",
          "text": [
            "hi\n"
          ]
        }
      ],
      "source": [
        "for i in range(5):\n",
        "  pass\n",
        "print('hi')"
      ]
    },
    {
      "cell_type": "code",
      "execution_count": null,
      "metadata": {
        "id": "D8-ooMCeVC07"
      },
      "outputs": [],
      "source": [
        "while True:\n",
        "  age=int(input('enter your age:'))\n",
        "  if age>60:\n",
        "    print('you are not elogible')\n",
        "  else:\n",
        "      print('you are eligible')\n",
        "\n",
        "  x=input('if you want continue enter yes otherwise no \\n ')\n",
        "  if x=='no':\n",
        "    print('thanks')\n",
        "\n",
        "\n"
      ]
    },
    {
      "cell_type": "code",
      "execution_count": null,
      "metadata": {
        "colab": {
          "base_uri": "https://localhost:8080/"
        },
        "id": "vh7ckkA8ZLep",
        "outputId": "1e636c9f-b894-4cdf-ad57-4600d246f55d"
      },
      "outputs": [
        {
          "name": "stdout",
          "output_type": "stream",
          "text": [
            "enter the num12\n",
            "you are not mature\n"
          ]
        }
      ],
      "source": [
        "while True:\n",
        "  num=int(input('enter the num'))\n",
        "  if num>=18:\n",
        "    print('your are mature')\n",
        "  else:\n",
        "    print('you are not mature')\n",
        "  break\n"
      ]
    },
    {
      "cell_type": "code",
      "execution_count": 6,
      "metadata": {
        "colab": {
          "base_uri": "https://localhost:8080/"
        },
        "id": "2iuqItYx6Gzu",
        "outputId": "e327fe88-8ecc-4be5-c9cc-938935bb7981"
      },
      "outputs": [
        {
          "name": "stdout",
          "output_type": "stream",
          "text": [
            "enter your educational qualification:not\n"
          ]
        }
      ],
      "source": [
        "while True:\n",
        "  ed=input('enter your educational qualification:')\n",
        "  if ed=='graduate':\n",
        "\n",
        "\n",
        "    print('you are eligible')\n",
        "\n",
        "  else:\n",
        "    break\n",
        "    print('you are not eligible')"
      ]
    },
    {
      "cell_type": "code",
      "execution_count": null,
      "metadata": {
        "colab": {
          "base_uri": "https://localhost:8080/"
        },
        "id": "iQ4FK8zwamHe",
        "outputId": "20707983-fe50-4df6-b3e9-27dc4ad59f96"
      },
      "outputs": [
        {
          "name": "stdout",
          "output_type": "stream",
          "text": [
            "5\n",
            "6\n",
            "7\n",
            "8\n",
            "9\n"
          ]
        }
      ],
      "source": [
        "j=5\n",
        "while j<10:\n",
        "  print(j)\n",
        "  j+=1\n"
      ]
    }
  ],
  "metadata": {
    "colab": {
      "provenance": [],
      "authorship_tag": "ABX9TyPAHrdgPVn7NgSyIyztc/0z",
      "include_colab_link": true
    },
    "kernelspec": {
      "display_name": "Python 3",
      "name": "python3"
    },
    "language_info": {
      "name": "python"
    }
  },
  "nbformat": 4,
  "nbformat_minor": 0
}